{
  "nbformat": 4,
  "nbformat_minor": 0,
  "metadata": {
    "colab": {
      "provenance": [],
      "authorship_tag": "ABX9TyMERyM+GvWYuBOYF3cWg5Ok",
      "include_colab_link": true
    },
    "kernelspec": {
      "name": "python3",
      "display_name": "Python 3"
    },
    "language_info": {
      "name": "python"
    }
  },
  "cells": [
    {
      "cell_type": "markdown",
      "metadata": {
        "id": "view-in-github",
        "colab_type": "text"
      },
      "source": [
        "<a href=\"https://colab.research.google.com/github/Galahad0508/DataAnalytics/blob/main/Tangaro_Correlatiton.ipynb\" target=\"_parent\"><img src=\"https://colab.research.google.com/assets/colab-badge.svg\" alt=\"Open In Colab\"/></a>"
      ]
    },
    {
      "cell_type": "markdown",
      "source": [
        "**ERIC JOHN O. TANGARO BET CPET 4B NS**\n",
        "\n",
        "**Instructions**\n",
        "A.Get the correlation of the following in gross of the movie \n",
        "1.   Director fb likes\n",
        "2.   Actor q1 FB likes \n",
        "3.   Number of critique review of the movie\n",
        "\n",
        "B. What type of correlation it shows  in 1, 2, 3\n",
        " you have to show the visualization using scatter plot\n",
        "\n",
        "C.  Which among those feature has the highest / relationship when it comes to gross of the movie .?What  would be your conclusion?"
      ],
      "metadata": {
        "id": "BCNhBBwt6DYv"
      }
    },
    {
      "cell_type": "code",
      "execution_count": 5,
      "metadata": {
        "id": "5fUece5B5ttH"
      },
      "outputs": [],
      "source": [
        "# ERIC JOHN O. TANGARO ACTIVITY CORELATION\n",
        "import numpy as np\n",
        "import pandas as pd\n",
        "import seaborn as sns\n",
        "import matplotlib.pyplot as plt\n",
        "from scipy.stats import norm\n",
        "from scipy.stats import pearsonr\n"
      ]
    },
    {
      "cell_type": "code",
      "source": [
        "data = pd.read_csv(\"/content/sample_data/movie_metadata_cleaned.csv\")\n",
        "data.shape\n"
      ],
      "metadata": {
        "colab": {
          "base_uri": "https://localhost:8080/"
        },
        "id": "fdNZ84Nn61qg",
        "outputId": "e176b317-4eef-48f0-d82b-8cd2186a3f43"
      },
      "execution_count": 15,
      "outputs": [
        {
          "output_type": "execute_result",
          "data": {
            "text/plain": [
              "(5044, 29)"
            ]
          },
          "metadata": {},
          "execution_count": 15
        }
      ]
    },
    {
      "cell_type": "markdown",
      "source": [
        "**GROSS CORRELATION TO DIRECTOR FB LIKES** "
      ],
      "metadata": {
        "id": "RaM_gcfe_Vs7"
      }
    },
    {
      "cell_type": "code",
      "source": [
        "df = pd.read_csv(\"/content/sample_data/movie_metadata_cleaned.csv\")\n",
        "# Convert dataframe into series\n",
        "x = df['gross']\n",
        "y = df['director_facebook_likes']\n",
        " \n",
        "\n",
        "corr, _ = pearsonr(x, y)\n",
        "print('Pearsons correlation: %.3f' % corr)\n",
        "\n",
        "plt.figure(figsize=(5,5))\n",
        "plt.tight_layout()\n",
        "plt.xlabel(\"Movie Gross in Billions\")\n",
        "plt.ylabel(\"Director FB likes\")\n",
        "plt.scatter(x,y)\n",
        "plt.show()"
      ],
      "metadata": {
        "colab": {
          "base_uri": "https://localhost:8080/",
          "height": 351
        },
        "id": "lvyde6U9_J8a",
        "outputId": "da715904-7302-4d9d-a76c-df7e7212197a"
      },
      "execution_count": 25,
      "outputs": [
        {
          "output_type": "stream",
          "name": "stdout",
          "text": [
            "Pearsons correlation: 0.150\n"
          ]
        },
        {
          "output_type": "display_data",
          "data": {
            "text/plain": [
              "<Figure size 360x360 with 1 Axes>"
            ],
            "image/png": "[encoded data removed]"
          },
          "metadata": {
            "needs_background": "light"
          }
        }
      ]
    },
    {
      "cell_type": "markdown",
      "source": [
        "As we can see in the graph, there is no direct correlation between the number of director fb like to the gross of the movie"
      ],
      "metadata": {
        "id": "OF8Uq9HFDeyP"
      }
    },
    {
      "cell_type": "markdown",
      "source": [
        "**GROSS CORRELATION TO ACTOR Q1 FB LIKES**"
      ],
      "metadata": {
        "id": "5huUlv5-EIrN"
      }
    },
    {
      "cell_type": "code",
      "source": [
        "df = pd.read_csv(\"/content/sample_data/movie_metadata_cleaned.csv\")\n",
        "x = df['gross']\n",
        "y = df['actor_1_facebook_likes']\n",
        " \n",
        "\n",
        "corr, _ = pearsonr(x, y)\n",
        "print('Pearsons correlation: %.3f' % corr)\n",
        "\n",
        "plt.figure(figsize=(5,5))\n",
        "plt.tight_layout()\n",
        "plt.xlabel(\"Movie Gross in Billions\")\n",
        "plt.ylabel(\"Director FB likes\")\n",
        "plt.scatter(x,y)\n",
        "plt.show()"
      ],
      "metadata": {
        "colab": {
          "base_uri": "https://localhost:8080/",
          "height": 351
        },
        "id": "eeqGoP_7EVMO",
        "outputId": "e31f575e-a2ea-4b98-9199-05a95c5d4579"
      },
      "execution_count": 24,
      "outputs": [
        {
          "output_type": "stream",
          "name": "stdout",
          "text": [
            "Pearsons correlation: 0.167\n"
          ]
        },
        {
          "output_type": "display_data",
          "data": {
            "text/plain": [
              "<Figure size 360x360 with 1 Axes>"
            ],
            "image/png": "[encoded data removed]"
          },
          "metadata": {
            "needs_background": "light"
          }
        }
      ]
    },
    {
      "cell_type": "markdown",
      "source": [
        "**GROSS CORRELATION TO NUMBER OF CRIQUE REVIEW**"
      ],
      "metadata": {
        "id": "l9TFioNGFxvB"
      }
    },
    {
      "cell_type": "code",
      "source": [
        "df = pd.read_csv(\"/content/sample_data/movie_metadata_cleaned.csv\")\n",
        "# Convert dataframe into series\n",
        "x = df['gross']\n",
        "y = df['num_user_for_reviews']\n",
        " \n",
        "\n",
        "corr, _ = pearsonr(y, x)\n",
        "print('Pearsons correlation: %.3f' % corr)\n",
        "\n",
        "plt.figure(figsize=(7,7))\n",
        "plt.tight_layout()\n",
        "plt.xlabel(\"Movie Gross in Billions\")\n",
        "plt.ylabel(\"Director FB likes\")\n",
        "plt.scatter(x,y)\n",
        "plt.show()"
      ],
      "metadata": {
        "colab": {
          "base_uri": "https://localhost:8080/",
          "height": 459
        },
        "id": "q2tyI9xMF4Mm",
        "outputId": "91877c8d-84a6-48e4-c48c-03b864e6bae0"
      },
      "execution_count": 23,
      "outputs": [
        {
          "output_type": "stream",
          "name": "stdout",
          "text": [
            "Pearsons correlation: 0.583\n"
          ]
        },
        {
          "output_type": "display_data",
          "data": {
            "text/plain": [
              "<Figure size 504x504 with 1 Axes>"
            ],
            "image/png": "[encoded data removed]"
          },
          "metadata": {
            "needs_background": "light"
          }
        }
      ]
    },
    {
      "cell_type": "markdown",
      "source": [
        "**Which among those feature has the highest / relationship when it comes to gross of the movie .?What  would be your conclusion?**"
      ],
      "metadata": {
        "id": "b5IDytDCGkXR"
      }
    },
    {
      "cell_type": "markdown",
      "source": [
        "  In my conclusion as shown in the above graphs,The highest relationship when it comes too gross of the movie is the number of crique reviews "
      ],
      "metadata": {
        "id": "DjNiRB5GGwk2"
      }
    }
  ]
}