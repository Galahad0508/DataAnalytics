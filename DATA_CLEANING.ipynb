{
  "nbformat": 4,
  "nbformat_minor": 0,
  "metadata": {
    "colab": {
      "provenance": [],
      "authorship_tag": "ABX9TyNnPTBh5pwBrE5wMgGdatjz",
      "include_colab_link": true
    },
    "kernelspec": {
      "name": "python3",
      "display_name": "Python 3"
    },
    "language_info": {
      "name": "python"
    }
  },
  "cells": [
    {
      "cell_type": "markdown",
      "metadata": {
        "id": "view-in-github",
        "colab_type": "text"
      },
      "source": [
        "<a href=\"https://colab.research.google.com/github/Galahad0508/DataAnalytics/blob/main/DATA_CLEANING.ipynb\" target=\"_parent\"><img src=\"https://colab.research.google.com/assets/colab-badge.svg\" alt=\"Open In Colab\"/></a>"
      ]
    },
    {
      "cell_type": "markdown",
      "source": [
        "**DATA CLEANING **\n",
        "\n",
        "Check the dataset content  \n",
        "Check info \n",
        "Display the data types \n",
        "Choose a column to change the data types \n",
        "Visualize  \n",
        "Display the Descriptive statistics"
      ],
      "metadata": {
        "id": "stTZaakkYihZ"
      }
    },
    {
      "cell_type": "code",
      "execution_count": 1,
      "metadata": {
        "id": "1Dc0iCqmYgTK"
      },
      "outputs": [],
      "source": [
        "###import libraries\n",
        "import csv\n",
        "import pandas as pd\n",
        "import numpy as np\n",
        "import scipy.stats as stats\n",
        "import matplotlib.pyplot as plt\n",
        "import seaborn as sns\n"
      ]
    },
    {
      "cell_type": "markdown",
      "source": [
        "**1. CHECK DATASET ***\n"
      ],
      "metadata": {
        "id": "rF6ezQcvZXet"
      }
    },
    {
      "cell_type": "code",
      "source": [
        "\n",
        "df = pd.read_csv('/content/sample_data/newyears_reso.csv')\n",
        "df = df.drop('DPS- PRIVACY CONSENT: I understand and agree that by filling out this form I am allowing the Technological University of the Philippines specifically College of Industrial Technology (CIT) to collect, process, use, share, and disclose my personal information for creation of dataset to be used in elective course and for educational purposes and also to store it as long as necessary for the fulfillment of the stated purpose and in accordance with applicable laws, including the Data Privacy Act of 2012 and its Implementing Rules and Regulations, and the TUP Privacy Policy. The purpose and extent of the collection, use, sharing, disclosure, and storage of my personal information was explained to me. The objective of this form is for educational purposes.', axis=1) \n",
        "##note that the DPS is drop because its too long and unnecessary data.\n",
        "df.head(10)\n",
        "\n",
        "\n",
        "\n",
        "\n",
        "\n",
        "\n"
      ],
      "metadata": {
        "colab": {
          "base_uri": "https://localhost:8080/",
          "height": 1000
        },
        "id": "0oL3pwZtbSZx",
        "outputId": "8c3044b1-11f0-471b-d03d-b4ad60d14a8a"
      },
      "execution_count": 54,
      "outputs": [
        {
          "output_type": "execute_result",
          "data": {
            "text/plain": [
              "                     Timestamp              Username  \\\n",
              "0  2023/01/10 7:27:54 PM GMT+8  sushey2000@gmail.com   \n",
              "1  2023/01/10 7:30:37 PM GMT+8                   NaN   \n",
              "2  2023/01/10 7:32:03 PM GMT+8                   NaN   \n",
              "3  2023/01/10 7:32:25 PM GMT+8                   NaN   \n",
              "4  2023/01/10 7:33:14 PM GMT+8                   NaN   \n",
              "5  2023/01/10 7:36:08 PM GMT+8                   NaN   \n",
              "6  2023/01/10 7:36:35 PM GMT+8                   NaN   \n",
              "7  2023/01/10 7:41:45 PM GMT+8                   NaN   \n",
              "8  2023/01/10 7:42:29 PM GMT+8                   NaN   \n",
              "9  2023/01/10 7:45:47 PM GMT+8                   NaN   \n",
              "\n",
              "                        Email Address  Age     Sex  \\\n",
              "0                sushey2000@gmail.com   22    Male   \n",
              "1           mark.jhon.fumar@gmail.com   22    Male   \n",
              "2              maeshiela805@gmail.com   16  Female   \n",
              "3  johncedric.villanueva.88@gmail.com   21    Male   \n",
              "4            ablanquearamae@gmail.com   20  Female   \n",
              "5                brentot105@gmail.com   22    Male   \n",
              "6          lalican.adrian26@gmail.com   19    Male   \n",
              "7         denielguabbejagan@gmail.com   23    Male   \n",
              "8             crismanabillo@gmail.com   22    Male   \n",
              "9          luigiferddauigoy@gmail.com   20    Male   \n",
              "\n",
              "        Designation/Profession  \\\n",
              "0                Self-Employed   \n",
              "1                      Student   \n",
              "2                      Student   \n",
              "3                      Student   \n",
              "4                      Student   \n",
              "5  Company of Private Employee   \n",
              "6                      Student   \n",
              "7  Company of Private Employee   \n",
              "8                      Student   \n",
              "9                      Student   \n",
              "\n",
              "        What are your new years resolutions for 2023  \\\n",
              "0  DRINK LESS ALCOHOL;EXERCISE REGULARLY;STOP PRO...   \n",
              "1  EXERCISE REGULARLY;ATTEND CHURCH REGULARLY;STO...   \n",
              "2                             GET MORE QUALITY SLEEP   \n",
              "3  STOP PROCASTINATING;STOP OVERSPENDING AND SAVE...   \n",
              "4  EXERCISE REGULARLY;ATTEND CHURCH REGULARLY;STO...   \n",
              "5                    SPEND LESS TIME ON SOCIAL MEDIA   \n",
              "6  GET MORE QUALITY SLEEP;SPEND LESS TIME ON SOCI...   \n",
              "7  DRINK LESS ALCOHOL;STOP BEING LATE;STOP OVERSP...   \n",
              "8  EXERCISE REGULARLY;STOP PROCASTINATING;TRAVEL ...   \n",
              "9  STOP SMOKING;DRINK LESS ALCOHOL;EXERCISE REGUL...   \n",
              "\n",
              "  How many years have you been making new years resolution  \\\n",
              "0                                  3 Years and above         \n",
              "1                                            2 Years         \n",
              "2                                             1 Year         \n",
              "3                                  3 Years and above         \n",
              "4                                  3 Years and above         \n",
              "5                                  3 Years and above         \n",
              "6                                             1 Year         \n",
              "7                                             1 Year         \n",
              "8                                  3 Years and above         \n",
              "9                                  3 Years and above         \n",
              "\n",
              "  Do you fulfill your new years resolution  \\\n",
              "0                                Sometimes   \n",
              "1                                Sometimes   \n",
              "2                                Sometimes   \n",
              "3                                Sometimes   \n",
              "4                                      Yes   \n",
              "5                                       No   \n",
              "6                                       No   \n",
              "7                                      Yes   \n",
              "8                                Sometimes   \n",
              "9                                Sometimes   \n",
              "\n",
              "   How much do you believe in new years resolution  \n",
              "0                                                3  \n",
              "1                                                3  \n",
              "2                                                3  \n",
              "3                                                3  \n",
              "4                                                4  \n",
              "5                                                3  \n",
              "6                                                1  \n",
              "7                                                4  \n",
              "8                                                3  \n",
              "9                                                4  "
            ],
            "text/html": [
              "\n",
              "  <div id=\"df-5c6a4952-1e2d-42fc-aada-22aaf0447fd6\">\n",
              "    <div class=\"colab-df-container\">\n",
              "      <div>\n",
              "<style scoped>\n",
              "    .dataframe tbody tr th:only-of-type {\n",
              "        vertical-align: middle;\n",
              "    }\n",
              "\n",
              "    .dataframe tbody tr th {\n",
              "        vertical-align: top;\n",
              "    }\n",
              "\n",
              "    .dataframe thead th {\n",
              "        text-align: right;\n",
              "    }\n",
              "</style>\n",
              "<table border=\"1\" class=\"dataframe\">\n",
              "  <thead>\n",
              "    <tr style=\"text-align: right;\">\n",
              "      <th></th>\n",
              "      <th>Timestamp</th>\n",
              "      <th>Username</th>\n",
              "      <th>Email Address</th>\n",
              "      <th>Age</th>\n",
              "      <th>Sex</th>\n",
              "      <th>Designation/Profession</th>\n",
              "      <th>What are your new years resolutions for 2023</th>\n",
              "      <th>How many years have you been making new years resolution</th>\n",
              "      <th>Do you fulfill your new years resolution</th>\n",
              "      <th>How much do you believe in new years resolution</th>\n",
              "    </tr>\n",
              "  </thead>\n",
              "  <tbody>\n",
              "    <tr>\n",
              "      <th>0</th>\n",
              "      <td>2023/01/10 7:27:54 PM GMT+8</td>\n",
              "      <td>sushey2000@gmail.com</td>\n",
              "      <td>sushey2000@gmail.com</td>\n",
              "      <td>22</td>\n",
              "      <td>Male</td>\n",
              "      <td>Self-Employed</td>\n",
              "      <td>DRINK LESS ALCOHOL;EXERCISE REGULARLY;STOP PRO...</td>\n",
              "      <td>3 Years and above</td>\n",
              "      <td>Sometimes</td>\n",
              "      <td>3</td>\n",
              "    </tr>\n",
              "    <tr>\n",
              "      <th>1</th>\n",
              "      <td>2023/01/10 7:30:37 PM GMT+8</td>\n",
              "      <td>NaN</td>\n",
              "      <td>mark.jhon.fumar@gmail.com</td>\n",
              "      <td>22</td>\n",
              "      <td>Male</td>\n",
              "      <td>Student</td>\n",
              "      <td>EXERCISE REGULARLY;ATTEND CHURCH REGULARLY;STO...</td>\n",
              "      <td>2 Years</td>\n",
              "      <td>Sometimes</td>\n",
              "      <td>3</td>\n",
              "    </tr>\n",
              "    <tr>\n",
              "      <th>2</th>\n",
              "      <td>2023/01/10 7:32:03 PM GMT+8</td>\n",
              "      <td>NaN</td>\n",
              "      <td>maeshiela805@gmail.com</td>\n",
              "      <td>16</td>\n",
              "      <td>Female</td>\n",
              "      <td>Student</td>\n",
              "      <td>GET MORE QUALITY SLEEP</td>\n",
              "      <td>1 Year</td>\n",
              "      <td>Sometimes</td>\n",
              "      <td>3</td>\n",
              "    </tr>\n",
              "    <tr>\n",
              "      <th>3</th>\n",
              "      <td>2023/01/10 7:32:25 PM GMT+8</td>\n",
              "      <td>NaN</td>\n",
              "      <td>johncedric.villanueva.88@gmail.com</td>\n",
              "      <td>21</td>\n",
              "      <td>Male</td>\n",
              "      <td>Student</td>\n",
              "      <td>STOP PROCASTINATING;STOP OVERSPENDING AND SAVE...</td>\n",
              "      <td>3 Years and above</td>\n",
              "      <td>Sometimes</td>\n",
              "      <td>3</td>\n",
              "    </tr>\n",
              "    <tr>\n",
              "      <th>4</th>\n",
              "      <td>2023/01/10 7:33:14 PM GMT+8</td>\n",
              "      <td>NaN</td>\n",
              "      <td>ablanquearamae@gmail.com</td>\n",
              "      <td>20</td>\n",
              "      <td>Female</td>\n",
              "      <td>Student</td>\n",
              "      <td>EXERCISE REGULARLY;ATTEND CHURCH REGULARLY;STO...</td>\n",
              "      <td>3 Years and above</td>\n",
              "      <td>Yes</td>\n",
              "      <td>4</td>\n",
              "    </tr>\n",
              "    <tr>\n",
              "      <th>5</th>\n",
              "      <td>2023/01/10 7:36:08 PM GMT+8</td>\n",
              "      <td>NaN</td>\n",
              "      <td>brentot105@gmail.com</td>\n",
              "      <td>22</td>\n",
              "      <td>Male</td>\n",
              "      <td>Company of Private Employee</td>\n",
              "      <td>SPEND LESS TIME ON SOCIAL MEDIA</td>\n",
              "      <td>3 Years and above</td>\n",
              "      <td>No</td>\n",
              "      <td>3</td>\n",
              "    </tr>\n",
              "    <tr>\n",
              "      <th>6</th>\n",
              "      <td>2023/01/10 7:36:35 PM GMT+8</td>\n",
              "      <td>NaN</td>\n",
              "      <td>lalican.adrian26@gmail.com</td>\n",
              "      <td>19</td>\n",
              "      <td>Male</td>\n",
              "      <td>Student</td>\n",
              "      <td>GET MORE QUALITY SLEEP;SPEND LESS TIME ON SOCI...</td>\n",
              "      <td>1 Year</td>\n",
              "      <td>No</td>\n",
              "      <td>1</td>\n",
              "    </tr>\n",
              "    <tr>\n",
              "      <th>7</th>\n",
              "      <td>2023/01/10 7:41:45 PM GMT+8</td>\n",
              "      <td>NaN</td>\n",
              "      <td>denielguabbejagan@gmail.com</td>\n",
              "      <td>23</td>\n",
              "      <td>Male</td>\n",
              "      <td>Company of Private Employee</td>\n",
              "      <td>DRINK LESS ALCOHOL;STOP BEING LATE;STOP OVERSP...</td>\n",
              "      <td>1 Year</td>\n",
              "      <td>Yes</td>\n",
              "      <td>4</td>\n",
              "    </tr>\n",
              "    <tr>\n",
              "      <th>8</th>\n",
              "      <td>2023/01/10 7:42:29 PM GMT+8</td>\n",
              "      <td>NaN</td>\n",
              "      <td>crismanabillo@gmail.com</td>\n",
              "      <td>22</td>\n",
              "      <td>Male</td>\n",
              "      <td>Student</td>\n",
              "      <td>EXERCISE REGULARLY;STOP PROCASTINATING;TRAVEL ...</td>\n",
              "      <td>3 Years and above</td>\n",
              "      <td>Sometimes</td>\n",
              "      <td>3</td>\n",
              "    </tr>\n",
              "    <tr>\n",
              "      <th>9</th>\n",
              "      <td>2023/01/10 7:45:47 PM GMT+8</td>\n",
              "      <td>NaN</td>\n",
              "      <td>luigiferddauigoy@gmail.com</td>\n",
              "      <td>20</td>\n",
              "      <td>Male</td>\n",
              "      <td>Student</td>\n",
              "      <td>STOP SMOKING;DRINK LESS ALCOHOL;EXERCISE REGUL...</td>\n",
              "      <td>3 Years and above</td>\n",
              "      <td>Sometimes</td>\n",
              "      <td>4</td>\n",
              "    </tr>\n",
              "  </tbody>\n",
              "</table>\n",
              "</div>\n",
              "      <button class=\"colab-df-convert\" onclick=\"convertToInteractive('df-5c6a4952-1e2d-42fc-aada-22aaf0447fd6')\"\n",
              "              title=\"Convert this dataframe to an interactive table.\"\n",
              "              style=\"display:none;\">\n",
              "        \n",
              "  <svg xmlns=\"http://www.w3.org/2000/svg\" height=\"24px\"viewBox=\"0 0 24 24\"\n",
              "       width=\"24px\">\n",
              "    <path d=\"M0 0h24v24H0V0z\" fill=\"none\"/>\n",
              "    <path d=\"M18.56 5.44l.94 2.06.94-2.06 2.06-.94-2.06-.94-.94-2.06-.94 2.06-2.06.94zm-11 1L8.5 8.5l.94-2.06 2.06-.94-2.06-.94L8.5 2.5l-.94 2.06-2.06.94zm10 10l.94 2.06.94-2.06 2.06-.94-2.06-.94-.94-2.06-.94 2.06-2.06.94z\"/><path d=\"M17.41 7.96l-1.37-1.37c-.4-.4-.92-.59-1.43-.59-.52 0-1.04.2-1.43.59L10.3 9.45l-7.72 7.72c-.78.78-.78 2.05 0 2.83L4 21.41c.39.39.9.59 1.41.59.51 0 1.02-.2 1.41-.59l7.78-7.78 2.81-2.81c.8-.78.8-2.07 0-2.86zM5.41 20L4 18.59l7.72-7.72 1.47 1.35L5.41 20z\"/>\n",
              "  </svg>\n",
              "      </button>\n",
              "      \n",
              "  <style>\n",
              "    .colab-df-container {\n",
              "      display:flex;\n",
              "      flex-wrap:wrap;\n",
              "      gap: 12px;\n",
              "    }\n",
              "\n",
              "    .colab-df-convert {\n",
              "      background-color: #E8F0FE;\n",
              "      border: none;\n",
              "      border-radius: 50%;\n",
              "      cursor: pointer;\n",
              "      display: none;\n",
              "      fill: #1967D2;\n",
              "      height: 32px;\n",
              "      padding: 0 0 0 0;\n",
              "      width: 32px;\n",
              "    }\n",
              "\n",
              "    .colab-df-convert:hover {\n",
              "      background-color: #E2EBFA;\n",
              "      box-shadow: 0px 1px 2px rgba(60, 64, 67, 0.3), 0px 1px 3px 1px rgba(60, 64, 67, 0.15);\n",
              "      fill: #174EA6;\n",
              "    }\n",
              "\n",
              "    [theme=dark] .colab-df-convert {\n",
              "      background-color: #3B4455;\n",
              "      fill: #D2E3FC;\n",
              "    }\n",
              "\n",
              "    [theme=dark] .colab-df-convert:hover {\n",
              "      background-color: #434B5C;\n",
              "      box-shadow: 0px 1px 3px 1px rgba(0, 0, 0, 0.15);\n",
              "      filter: drop-shadow(0px 1px 2px rgba(0, 0, 0, 0.3));\n",
              "      fill: #FFFFFF;\n",
              "    }\n",
              "  </style>\n",
              "\n",
              "      <script>\n",
              "        const buttonEl =\n",
              "          document.querySelector('#df-5c6a4952-1e2d-42fc-aada-22aaf0447fd6 button.colab-df-convert');\n",
              "        buttonEl.style.display =\n",
              "          google.colab.kernel.accessAllowed ? 'block' : 'none';\n",
              "\n",
              "        async function convertToInteractive(key) {\n",
              "          const element = document.querySelector('#df-5c6a4952-1e2d-42fc-aada-22aaf0447fd6');\n",
              "          const dataTable =\n",
              "            await google.colab.kernel.invokeFunction('convertToInteractive',\n",
              "                                                     [key], {});\n",
              "          if (!dataTable) return;\n",
              "\n",
              "          const docLinkHtml = 'Like what you see? Visit the ' +\n",
              "            '<a target=\"_blank\" href=https://colab.research.google.com/notebooks/data_table.ipynb>data table notebook</a>'\n",
              "            + ' to learn more about interactive tables.';\n",
              "          element.innerHTML = '';\n",
              "          dataTable['output_type'] = 'display_data';\n",
              "          await google.colab.output.renderOutput(dataTable, element);\n",
              "          const docLink = document.createElement('div');\n",
              "          docLink.innerHTML = docLinkHtml;\n",
              "          element.appendChild(docLink);\n",
              "        }\n",
              "      </script>\n",
              "    </div>\n",
              "  </div>\n",
              "  "
            ]
          },
          "metadata": {},
          "execution_count": 54
        }
      ]
    },
    {
      "cell_type": "markdown",
      "source": [
        "**2. CHECK INFO**\n"
      ],
      "metadata": {
        "id": "KS4BdJ6xd1w6"
      }
    },
    {
      "cell_type": "code",
      "source": [
        "df.info()"
      ],
      "metadata": {
        "colab": {
          "base_uri": "https://localhost:8080/"
        },
        "id": "RsPLnAK9eVFy",
        "outputId": "b7edaac3-9e92-41fa-d536-a364697a2032"
      },
      "execution_count": 55,
      "outputs": [
        {
          "output_type": "stream",
          "name": "stdout",
          "text": [
            "<class 'pandas.core.frame.DataFrame'>\n",
            "RangeIndex: 50 entries, 0 to 49\n",
            "Data columns (total 10 columns):\n",
            " #   Column                                                    Non-Null Count  Dtype \n",
            "---  ------                                                    --------------  ----- \n",
            " 0   Timestamp                                                 50 non-null     object\n",
            " 1   Username                                                  1 non-null      object\n",
            " 2   Email Address                                             50 non-null     object\n",
            " 3   Age                                                       50 non-null     int64 \n",
            " 4   Sex                                                       50 non-null     object\n",
            " 5   Designation/Profession                                    50 non-null     object\n",
            " 6   What are your new years resolutions for 2023              50 non-null     object\n",
            " 7   How many years have you been making new years resolution  50 non-null     object\n",
            " 8   Do you fulfill your new years resolution                  50 non-null     object\n",
            " 9   How much do you believe in new years resolution           50 non-null     int64 \n",
            "dtypes: int64(2), object(8)\n",
            "memory usage: 4.0+ KB\n"
          ]
        }
      ]
    },
    {
      "cell_type": "markdown",
      "source": [
        "**3. CHECK DATA TYPES**"
      ],
      "metadata": {
        "id": "dC7FQG_9elum"
      }
    },
    {
      "cell_type": "code",
      "source": [
        "df.dtypes"
      ],
      "metadata": {
        "colab": {
          "base_uri": "https://localhost:8080/"
        },
        "id": "hrPDBNF2eouJ",
        "outputId": "0b725ed5-f418-4f47-a340-aa962db19a9a"
      },
      "execution_count": 51,
      "outputs": [
        {
          "output_type": "execute_result",
          "data": {
            "text/plain": [
              "Timestamp                                                   object\n",
              "Username                                                    object\n",
              "Email Address                                               object\n",
              "Age                                                          int64\n",
              "Sex                                                         object\n",
              "Designation/Profession                                      object\n",
              "What are your new years resolutions for 2023                object\n",
              "How many years have you been making new years resolution    object\n",
              "Do you fulfill your new year's resolution?                  object\n",
              "How much do you believe in new year's resolution?            int64\n",
              "dtype: object"
            ]
          },
          "metadata": {},
          "execution_count": 51
        }
      ]
    },
    {
      "cell_type": "markdown",
      "source": [
        "**4. CHOOSE A COLUMN TO CHANGE THE DATATYPES**\n",
        "\n",
        "In this case we choose the column of sex , where we change the 1 for female and 2 for male, "
      ],
      "metadata": {
        "id": "LU8mCG2uewu5"
      }
    },
    {
      "cell_type": "code",
      "source": [
        "df['Sex'] = df['Sex'].replace({'Female':1, 'Male':2})\n",
        "print(df['Sex'])\n",
        "\n",
        "\n"
      ],
      "metadata": {
        "colab": {
          "base_uri": "https://localhost:8080/"
        },
        "id": "5uFlOwvcfp6H",
        "outputId": "49d01c31-6ec6-4b48-d3b9-bca45dc78137"
      },
      "execution_count": 59,
      "outputs": [
        {
          "output_type": "stream",
          "name": "stdout",
          "text": [
            "0     2\n",
            "1     2\n",
            "2     1\n",
            "3     2\n",
            "4     1\n",
            "5     2\n",
            "6     2\n",
            "7     2\n",
            "8     2\n",
            "9     2\n",
            "10    1\n",
            "11    1\n",
            "12    1\n",
            "13    1\n",
            "14    1\n",
            "15    2\n",
            "16    1\n",
            "17    1\n",
            "18    1\n",
            "19    2\n",
            "20    2\n",
            "21    1\n",
            "22    1\n",
            "23    1\n",
            "24    2\n",
            "25    1\n",
            "26    2\n",
            "27    1\n",
            "28    1\n",
            "29    1\n",
            "30    1\n",
            "31    1\n",
            "32    2\n",
            "33    2\n",
            "34    1\n",
            "35    2\n",
            "36    2\n",
            "37    2\n",
            "38    2\n",
            "39    2\n",
            "40    2\n",
            "41    1\n",
            "42    2\n",
            "43    2\n",
            "44    2\n",
            "45    1\n",
            "46    2\n",
            "47    2\n",
            "48    2\n",
            "49    2\n",
            "Name: Sex, dtype: int64 10\n"
          ]
        }
      ]
    },
    {
      "cell_type": "markdown",
      "source": [
        "**5. VISUALIZE**"
      ],
      "metadata": {
        "id": "7PZIl1IBgMgO"
      }
    },
    {
      "cell_type": "code",
      "source": [
        "sex_group = df.groupby('Sex').size()\n",
        "sex_group.plot.pie(autopct='%1.1f%%')\n",
        "plt.title('PERCENTAGE OF (2)MALE AND (1)FEMALE')\n",
        "plt.legend(['female', 'male'])\n",
        "plt.show()\n",
        "\n",
        "Age_group = df.groupby('Age').size()\n",
        "Age_group.plot.pie(autopct='%1.1f%%')\n",
        "plt.title('PERCENTAGE OF PARTICPANTS BY AGE')\n",
        "plt.show()\n",
        "\n",
        "Age_group = df.groupby('Designation/Profession').size()\n",
        "Age_group.plot.pie(autopct='%1.1f%%')\n",
        "plt.title('PERCENTAGE OF PARTICPANTS BY Proffession')\n",
        "plt.show()\n",
        "\n",
        "\n",
        "\n"
      ],
      "metadata": {
        "colab": {
          "base_uri": "https://localhost:8080/",
          "height": 758
        },
        "id": "u2rvcG6GgPfP",
        "outputId": "cbfd60ed-0945-41cb-fe9f-f8687c90180b"
      },
      "execution_count": 45,
      "outputs": [
        {
          "output_type": "display_data",
          "data": {
            "text/plain": [
              "<Figure size 432x288 with 1 Axes>"
            ],
            "image/png": "[encoded data removed]"
          },
          "metadata": {}
        },
        {
          "output_type": "display_data",
          "data": {
            "text/plain": [
              "<Figure size 432x288 with 1 Axes>"
            ],
            "image/png": "[encoded data removed]"
          },
          "metadata": {}
        },
        {
          "output_type": "display_data",
          "data": {
            "text/plain": [
              "<Figure size 432x288 with 1 Axes>"
            ],
            "image/png": "[encoded data removed]"
          },
          "metadata": {}
        }
      ]
    },
    {
      "cell_type": "code",
      "source": [
        "df['How many years have you been making new years resolution'].value_counts().plot(kind='bar', color='skyblue')\n",
        "\n",
        "# Add a title\n",
        "plt.title('YEARS MAKING RESOLUTION')\n",
        "\n",
        "# Show the chart\n",
        "plt.show()"
      ],
      "metadata": {
        "colab": {
          "base_uri": "https://localhost:8080/",
          "height": 362
        },
        "id": "_XY9wJbypVT7",
        "outputId": "76d9c030-692e-4f9f-c5d9-df1b3e6bc4c2"
      },
      "execution_count": 57,
      "outputs": [
        {
          "output_type": "display_data",
          "data": {
            "text/plain": [
              "<Figure size 432x288 with 1 Axes>"
            ],
            "image/png": "[encoded data removed]"
          },
          "metadata": {
            "needs_background": "light"
          }
        }
      ]
    },
    {
      "cell_type": "markdown",
      "source": [
        "**6. DESCRIPTIVE STATISTICS**"
      ],
      "metadata": {
        "id": "4MPMy5Xnk0wS"
      }
    },
    {
      "cell_type": "code",
      "source": [
        "desc_stats = df.describe()\n",
        "print(desc_stats)"
      ],
      "metadata": {
        "colab": {
          "base_uri": "https://localhost:8080/"
        },
        "id": "nRBNCeHUk3z_",
        "outputId": "84203a30-ecb6-4067-c4d3-fe1f2789533e"
      },
      "execution_count": 39,
      "outputs": [
        {
          "output_type": "stream",
          "name": "stdout",
          "text": [
            "             Age        Sex  How much do you believe in new year's resolution?\n",
            "count  50.000000  50.000000                                          50.000000\n",
            "mean   21.020000   1.560000                                           3.080000\n",
            "std     2.766343   0.501427                                           1.121952\n",
            "min    13.000000   1.000000                                           1.000000\n",
            "25%    20.000000   1.000000                                           3.000000\n",
            "50%    21.000000   2.000000                                           3.000000\n",
            "75%    22.000000   2.000000                                           4.000000\n",
            "max    30.000000   2.000000                                           5.000000\n"
          ]
        }
      ]
    }
  ]
}